# QUESTION #1 Response ...
# This is what I put in Regex101: regex = r"^[J-joh]{1,2}[hn]"
# And this is the Python code: 

# coding=utf8
# the above tag defines encoding for this document and is for Python 2.x compatibility

import re

regex = r"^[J-joh]{1,2}[hn]"

test_str = ("Florence smith\n"
	"John Smith\n"
	"Carol Brown\n"
	"Peter Trapp\n"
	"Jon Smythe\n"
	"Luca Smith\n"
	"John Smythe\n"
	"Maggie Veach\n"
	"Jon Smith\n"
	"Katie Pine\n"
	"John Smth\n"
	"John Brown\n"
	"jon Smith\n"
	"Peter Finch\n"
	"Novel Djokvich\n")

matches = re.finditer(regex, test_str, re.MULTILINE)

for matchNum, match in enumerate(matches, start=1):
    
    print ("Match {matchNum} was found at {start}-{end}: {match}".format(matchNum = matchNum, start = match.start(), end = match.end(), match = match.group()))
    
    for groupNum in range(0, len(match.groups())):
        groupNum = groupNum + 1
        
        print ("Group {groupNum} found at {start}-{end}: {group}".format(groupNum = groupNum, start = match.start(groupNum), end = match.end(groupNum), group = match.group(groupNum)))

# Note: for Python 2.7 compatibility, use ur"" to prefix the regex and u"" to prefix the test string and substitution

# QUESTION #2 Response ...
# This is what I put in Regex101: regex = r"[0-9]?[\/]?[\d]"
# And this is the Python code: 


[0-9]?[\/]?[\d]

# coding=utf8
# the above tag defines encoding for this document and is for Python 2.x compatibility

#import re

test_str = ("2. Create separate patterns that find all the following invoice numbers and dates:\n\n"
	"Invoice 34244 form\n"
	"Date of invoice: 10/22/2001\n"
	"Invoice 49204\n\n\n"
	"Invoice 34244 form\n"
	"Date of invoice: 9/12/2001\n"
	"Invoice 495046\n\n\n"
	"Invoice 34244 form\n"
	"Date of invoice: 4/1/22\n"
	"Invoice 4951046\n\n"
	"Invoice 34244 form\n"
	"Date of invoice: 10/22/2001\n"
	"Invoice 49204\n\n\n")

matches = re.finditer(regex, test_str, re.MULTILINE)

for matchNum, match in enumerate(matches, start=1):
    
    print ("Match {matchNum} was found at {start}-{end}: {match}".format(matchNum = matchNum, start = match.start(), end = match.end(), match = match.group()))
    
    for groupNum in range(0, len(match.groups())):
        groupNum = groupNum + 1
        
        print ("Group {groupNum} found at {start}-{end}: {group}".format(groupNum = groupNum, start = match.start(groupNum), end = match.end(groupNum), group = match.group(groupNum)))

# Note: for Python 2.7 compatibility, use ur"" to prefix the regex and u"" to prefix the test string and substitution.

# QUESTION #3 Response ...
# This is what I put in Regex101: regex = [A-Za-z]*[\,\s]*[\d]
# And this is the Python code: 

# coding=utf8
# the above tag defines encoding for this document and is for Python 2.x compatibility

#import re

regex = r"[A-Za-z]*[\,\s]*[\d]"

test_str = ("3. Create a pattern that finds all animals and their weights\n\n"
	"Animal, Weight\n"
	"Cat, 20\n"
	"Dog, 50\n"
	"Rhino, 809\n"
	"Elephant, 1000\n\n\n\n")

matches = re.finditer(regex, test_str, re.MULTILINE)

for matchNum, match in enumerate(matches, start=1):
    
    print ("Match {matchNum} was found at {start}-{end}: {match}".format(matchNum = matchNum, start = match.start(), end = match.end(), match = match.group()))
    
    for groupNum in range(0, len(match.groups())):
        groupNum = groupNum + 1
        
        print ("Group {groupNum} found at {start}-{end}: {group}".format(groupNum = groupNum, start = match.start(groupNum), end = match.end(groupNum), group = match.group(groupNum)))

# Note: for Python 2.7 compatibility, use ur"" to prefix the regex and u"" to prefix the test string and substitution.
